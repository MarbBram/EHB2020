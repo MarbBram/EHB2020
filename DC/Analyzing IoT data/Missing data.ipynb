{
 "cells": [
  {
   "cell_type": "markdown",
   "metadata": {},
   "source": [
    "# Cleaning and missing data\n",
    "\n",
    "## Missing data\n",
    "\n",
    "Let's now explore different methods to handle missing data.\n",
    "\n",
    "It's important to know different methods to deal with missing data, since you are not always allowed to drop observations from the dataset.\n",
    "\n",
    "The dataset data and pandas as pd are available in your session."
   ]
  },
  {
   "cell_type": "code",
   "execution_count": null,
   "metadata": {},
   "outputs": [],
   "source": []
  },
  {
   "cell_type": "code",
   "execution_count": null,
   "metadata": {},
   "outputs": [],
   "source": []
  },
  {
   "cell_type": "markdown",
   "metadata": {},
   "source": [
    "### Task 1\n",
    "Drop rows with missing data and print the first 5 rows."
   ]
  },
  {
   "cell_type": "code",
   "execution_count": 3,
   "metadata": {},
   "outputs": [],
   "source": [
    "import pandas as pd\n",
    "import matplotlib.pyplot as plt\n",
    "data = pd.read_csv(\"environmental_with_missing.csv\", index_col=\"timestamp\", parse_dates=True)"
   ]
  },
  {
   "cell_type": "code",
   "execution_count": null,
   "metadata": {},
   "outputs": [],
   "source": []
  },
  {
   "cell_type": "code",
   "execution_count": 4,
   "metadata": {},
   "outputs": [
    {
     "name": "stdout",
     "output_type": "stream",
     "text": [
      "                     precipitation  humidity  radiation  sunshine  pressure  \\\n",
      "timestamp                                                                     \n",
      "2018-11-01 00:00:00            0.0      78.8        0.0       0.0    1022.4   \n",
      "2018-11-01 00:05:00            0.0       NaN        NaN       NaN       NaN   \n",
      "2018-11-01 00:10:00            0.0      77.8        0.0       0.0    1022.5   \n",
      "2018-11-01 00:15:00            0.0       NaN        NaN       NaN       NaN   \n",
      "2018-11-01 00:20:00            0.0      76.9        0.0       0.0    1022.5   \n",
      "\n",
      "                     temperature  \n",
      "timestamp                         \n",
      "2018-11-01 00:00:00         10.6  \n",
      "2018-11-01 00:05:00          NaN  \n",
      "2018-11-01 00:10:00         10.7  \n",
      "2018-11-01 00:15:00          NaN  \n",
      "2018-11-01 00:20:00         10.8  \n",
      "                     precipitation  humidity  radiation  sunshine  pressure  \\\n",
      "timestamp                                                                     \n",
      "2018-11-01 00:00:00            0.0      78.8        0.0       0.0    1022.4   \n",
      "2018-11-01 00:10:00            0.0      77.8        0.0       0.0    1022.5   \n",
      "2018-11-01 00:20:00            0.0      76.9        0.0       0.0    1022.5   \n",
      "2018-11-01 00:30:00            0.0      75.6        0.0       0.0    1022.5   \n",
      "2018-11-01 00:40:00            0.0      77.1        0.0       0.0    1022.5   \n",
      "\n",
      "                     temperature  \n",
      "timestamp                         \n",
      "2018-11-01 00:00:00         10.6  \n",
      "2018-11-01 00:10:00         10.7  \n",
      "2018-11-01 00:20:00         10.8  \n",
      "2018-11-01 00:30:00         10.9  \n",
      "2018-11-01 00:40:00         10.7  \n"
     ]
    }
   ],
   "source": [
    "# Print head of the DataFrame\n",
    "print(data.head())\n",
    "\n",
    "# Drop missing rows\n",
    "data_clean = data.dropna()\n",
    "print(data_clean.head())"
   ]
  },
  {
   "cell_type": "markdown",
   "metadata": {},
   "source": [
    "### Task 2\n",
    "Fill the missing values (of the original DataFrame) via forward-fill and print first 5 rows of cleaned DataFrame."
   ]
  },
  {
   "cell_type": "code",
   "execution_count": 6,
   "metadata": {},
   "outputs": [
    {
     "name": "stdout",
     "output_type": "stream",
     "text": [
      "                     precipitation  humidity  radiation  sunshine  pressure  \\\n",
      "timestamp                                                                     \n",
      "2018-11-01 00:00:00            0.0      78.8        0.0       0.0    1022.4   \n",
      "2018-11-01 00:05:00            0.0       NaN        NaN       NaN       NaN   \n",
      "2018-11-01 00:10:00            0.0      77.8        0.0       0.0    1022.5   \n",
      "2018-11-01 00:15:00            0.0       NaN        NaN       NaN       NaN   \n",
      "2018-11-01 00:20:00            0.0      76.9        0.0       0.0    1022.5   \n",
      "\n",
      "                     temperature  \n",
      "timestamp                         \n",
      "2018-11-01 00:00:00         10.6  \n",
      "2018-11-01 00:05:00          NaN  \n",
      "2018-11-01 00:10:00         10.7  \n",
      "2018-11-01 00:15:00          NaN  \n",
      "2018-11-01 00:20:00         10.8  \n",
      "                     precipitation  humidity  radiation  sunshine  pressure  \\\n",
      "timestamp                                                                     \n",
      "2018-11-01 00:00:00            0.0      78.8        0.0       0.0    1022.4   \n",
      "2018-11-01 00:05:00            0.0      78.8        0.0       0.0    1022.4   \n",
      "2018-11-01 00:10:00            0.0      77.8        0.0       0.0    1022.5   \n",
      "2018-11-01 00:15:00            0.0      77.8        0.0       0.0    1022.5   \n",
      "2018-11-01 00:20:00            0.0      76.9        0.0       0.0    1022.5   \n",
      "\n",
      "                     temperature  \n",
      "timestamp                         \n",
      "2018-11-01 00:00:00         10.6  \n",
      "2018-11-01 00:05:00         10.6  \n",
      "2018-11-01 00:10:00         10.7  \n",
      "2018-11-01 00:15:00         10.7  \n",
      "2018-11-01 00:20:00         10.8  \n"
     ]
    }
   ],
   "source": [
    "# Print head of the DataFrame\n",
    "print(data.head())\n",
    "\n",
    "# Forward-fill missing values\n",
    "data_clean = data.fillna(method=\"ffill\")\n",
    "print(data_clean.head())"
   ]
  },
  {
   "cell_type": "markdown",
   "metadata": {},
   "source": [
    "## Missing data II\n",
    "\n",
    "While analyzing data, you should be aware of any longer, connected periods without data, as this can influence your results.\n",
    "\n",
    "While you can fill columns with missing data, the previous methods did not reveal if no data is present for a period of time.\n",
    "\n",
    "In this exercise, you'll search for periods of time without data, and you'll try to detect them visually in a line graph."
   ]
  },
  {
   "cell_type": "markdown",
   "metadata": {},
   "source": [
    "### Missing data II Task 1\n",
    "Calculate and print the number of NA values from the dataframe data."
   ]
  },
  {
   "cell_type": "code",
   "execution_count": 10,
   "metadata": {},
   "outputs": [],
   "source": [
    "import pandas as pd\n",
    "import matplotlib.pyplot as plt\n",
    "data = pd.read_csv(\"missing_data_II.csv\", index_col=\"timestamp\", parse_dates=True)"
   ]
  },
  {
   "cell_type": "code",
   "execution_count": 12,
   "metadata": {},
   "outputs": [
    {
     "name": "stdout",
     "output_type": "stream",
     "text": [
      "temperature    819\n",
      "humidity       819\n",
      "dtype: int64\n"
     ]
    }
   ],
   "source": [
    "# Calculate and print NA count\n",
    "print(data.isna().count())"
   ]
  },
  {
   "cell_type": "code",
   "execution_count": 13,
   "metadata": {},
   "outputs": [
    {
     "name": "stdout",
     "output_type": "stream",
     "text": [
      "<class 'pandas.core.frame.DataFrame'>\n",
      "DatetimeIndex: 819 entries, 2018-11-05 00:00:00 to 2018-11-10 23:50:00\n",
      "Data columns (total 2 columns):\n",
      "temperature    819 non-null float64\n",
      "humidity       819 non-null float64\n",
      "dtypes: float64(2)\n",
      "memory usage: 19.2 KB\n"
     ]
    }
   ],
   "source": [
    "data.info()"
   ]
  },
  {
   "cell_type": "markdown",
   "metadata": {},
   "source": [
    "### Missing data II Task  2 \n",
    "Resample the dataframe to \"10min\".\n",
    "Specify to use the last value of every time window.\n",
    "Calculate the NA values per column again.\n"
   ]
  },
  {
   "cell_type": "code",
   "execution_count": 17,
   "metadata": {},
   "outputs": [
    {
     "name": "stdout",
     "output_type": "stream",
     "text": [
      "temperature    819\n",
      "humidity       819\n",
      "dtype: int64\n",
      "temperature    864\n",
      "humidity       864\n",
      "dtype: int64\n"
     ]
    }
   ],
   "source": [
    "# Calculate and print NA count\n",
    "print(data.isna().count())\n",
    "\n",
    "# Resample data\n",
    "data_res = data.resample(\"10min\").last()\n",
    "\n",
    "# Calculate and print NA count\n",
    "print(data_res.isna().count())"
   ]
  },
  {
   "cell_type": "markdown",
   "metadata": {},
   "source": [
    "### Task 3 Plot the resampled dataframe to try and detect the gap in values."
   ]
  },
  {
   "cell_type": "code",
   "execution_count": 18,
   "metadata": {},
   "outputs": [
    {
     "data": {
      "image/png": "[encoded data removed]",
      "text/plain": [
       "<Figure size 432x288 with 1 Axes>"
      ]
     },
     "metadata": {
      "needs_background": "light"
     },
     "output_type": "display_data"
    }
   ],
   "source": [
    "# Plot the dataframe\n",
    "data_res.plot()\n",
    "\n",
    "plt.show()"
   ]
  },
  {
   "cell_type": "markdown",
   "metadata": {},
   "source": [
    "### 4 Is there a gap in the data?\n",
    "A) All data-points are present, there is no gap.\n",
    "B) There is a gap on the 8th of November.\n",
    "C) There are multiple gaps in the data, one on the 7th November, and one on the 9th November.\n",
    "D ) There is a gap on the 6th of November.\n"
   ]
  }
 ],
 "metadata": {
  "kernelspec": {
   "display_name": "Python 3",
   "language": "python",
   "name": "python3"
  },
  "language_info": {
   "codemirror_mode": {
    "name": "ipython",
    "version": 3
   },
   "file_extension": ".py",
   "mimetype": "text/x-python",
   "name": "python",
   "nbconvert_exporter": "python",
   "pygments_lexer": "ipython3",
   "version": "3.7.4"
  }
 },
 "nbformat": 4,
 "nbformat_minor": 2
}
