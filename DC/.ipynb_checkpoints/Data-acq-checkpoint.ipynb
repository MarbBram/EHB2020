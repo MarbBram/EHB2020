{
 "cells": [
  {
   "cell_type": "markdown",
   "metadata": {},
   "source": [
    "## Data acquisition\n",
    "\n",
    "Let's get our first set of IoT data.\n",
    "\n",
    "You will get started by consuming an environmental API provided by a public community. The API consists of multiple endpoints, and you will start by consuming the temperature data. The data is in 10-minute intervals and limited historical data is available.\n",
    "\n",
    "You will use requests to download the last 5 records. Since the endpoint provides json encoded data, you can use .json() on the response object to get a python object (in this case a list).\n",
    "\n",
    "Then you convert the list to a pandas DataFrame to be able to easily work with the data.\n",
    "\n",
    "The constant URL to consume data from has been defined for you."
   ]
  },
  {
   "cell_type": "markdown",
   "metadata": {},
   "source": [
    "\n",
    "    Import requests and pandas as pd.\n",
    "    Download data from URL using requests and store the result in res.\n",
    "    Convert the JSON-encoded result res into a python object and store the result in data_temp.\n",
    "    Convert data_temp into a pandas DataFrame df_temp.\n"
   ]
  },
  {
   "cell_type": "code",
   "execution_count": 2,
   "metadata": {},
   "outputs": [],
   "source": [
    "URL = \"http://bit.ly/2uRZWeU\""
   ]
  },
  {
   "cell_type": "code",
   "execution_count": 3,
   "metadata": {},
   "outputs": [
    {
     "name": "stdout",
     "output_type": "stream",
     "text": [
      "[{'timestamp': 1535764800000, 'value': 15.8}, {'timestamp': 1535765400000, 'value': 15.7}, {'timestamp': 1535766000000, 'value': 15.7}, {'timestamp': 1535766600000, 'value': 15.6}, {'timestamp': 1535767200000, 'value': 15.7}, {'timestamp': 1535767800000, 'value': 15.7}, {'timestamp': 1535768400000, 'value': 15.8}, {'timestamp': 1535769000000, 'value': 15.7}, {'timestamp': 1535769600000, 'value': 15.9}, {'timestamp': 1535770200000, 'value': 15.7}, {'timestamp': 1535770800000, 'value': 15.6}, {'timestamp': 1535771400000, 'value': 15.4}, {'timestamp': 1535772000000, 'value': 15.4}, {'timestamp': 1535772600000, 'value': 15.2}, {'timestamp': 1535773200000, 'value': 14.6}, {'timestamp': 1535773800000, 'value': 14.5}, {'timestamp': 1535774400000, 'value': 14.4}, {'timestamp': 1535775000000, 'value': 14.2}, {'timestamp': 1535775600000, 'value': 14.2}, {'timestamp': 1535776200000, 'value': 14.2}, {'timestamp': 1535776800000, 'value': 14.2}, {'timestamp': 1535777400000, 'value': 14.1}, {'timestamp': 1535778000000, 'value': 14.0}, {'timestamp': 1535778600000, 'value': 14.1}, {'timestamp': 1535779200000, 'value': 14.2}, {'timestamp': 1535779800000, 'value': 14.1}, {'timestamp': 1535780400000, 'value': 14.1}, {'timestamp': 1535781000000, 'value': 14.1}, {'timestamp': 1535781600000, 'value': 14.1}, {'timestamp': 1535782200000, 'value': 14.2}]\n",
      "       timestamp  value\n",
      "0  1535764800000   15.8\n",
      "1  1535765400000   15.7\n",
      "2  1535766000000   15.7\n",
      "3  1535766600000   15.6\n",
      "4  1535767200000   15.7\n"
     ]
    }
   ],
   "source": [
    "# Imports\n",
    "import requests\n",
    "import pandas as pd\n",
    "\n",
    "# Download data from URL\n",
    "res = requests.get(URL)\n",
    "\n",
    "# Convert the result\n",
    "data_temp = res.json()\n",
    "print(data_temp)\n",
    "# Convert json data to Dataframe\n",
    "df_temp = pd.DataFrame(data_temp)\n",
    "\n",
    "print(df_temp.head())"
   ]
  },
  {
   "cell_type": "markdown",
   "metadata": {},
   "source": [
    "Acquire data with pandas\n",
    "\n",
    "As you just saw, consuming the public API, converting the data and transforming this into a DataFrame required multiple lines of code.\n",
    "\n",
    "This can be simplified by using pandas' pd.read_json(), which handles the above steps for you.\n",
    "\n",
    "You will consume the same API again. However this time, you'll be using pandas to consume the API and store the result to disk for further analysis. The URL to consume data from has been defined for you."
   ]
  },
  {
   "cell_type": "markdown",
   "metadata": {},
   "source": [
    "\n",
    "    Import pandas as pd.\n",
    "    Read the data from URL directly into the DataFrame df_temp.\n",
    "    Print the first 5 rows.\n",
    "    Print the data types of the DataFrame df_temp.\n"
   ]
  },
  {
   "cell_type": "code",
   "execution_count": null,
   "metadata": {},
   "outputs": [],
   "source": [
    "# Import pandas\n",
    "import pandas as pd\n",
    "\n",
    "# Load URL to Dataframe\n",
    "df_temp = pd.read_json(URL)\n",
    "\n",
    "# Print first 5 rows\n",
    "print(df_temp.head())\n",
    "\n",
    "# Print datatypes\n",
    "print(df_temp.dtypes)"
   ]
  },
  {
   "cell_type": "code",
   "execution_count": null,
   "metadata": {},
   "outputs": [],
   "source": []
  }
 ],
 "metadata": {
  "kernelspec": {
   "display_name": "Python 3",
   "language": "python",
   "name": "python3"
  },
  "language_info": {
   "codemirror_mode": {
    "name": "ipython",
    "version": 3
   },
   "file_extension": ".py",
   "mimetype": "text/x-python",
   "name": "python",
   "nbconvert_exporter": "python",
   "pygments_lexer": "ipython3",
   "version": "3.7.4"
  }
 },
 "nbformat": 4,
 "nbformat_minor": 2
}
